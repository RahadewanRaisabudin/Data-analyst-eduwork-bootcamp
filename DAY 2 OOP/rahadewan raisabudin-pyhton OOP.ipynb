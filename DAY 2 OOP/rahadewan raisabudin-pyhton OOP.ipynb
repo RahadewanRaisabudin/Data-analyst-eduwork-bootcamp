{
 "cells": [
  {
   "cell_type": "code",
   "execution_count": 10,
   "metadata": {},
   "outputs": [],
   "source": [
    "import json\n",
    "\n",
    "# read json\n",
    "def read_data(file_path):\n",
    "    with open(file_path, 'r') as file:\n",
    "        data = json.load(file)\n",
    "    return data"
   ]
  },
  {
   "cell_type": "code",
   "execution_count": 11,
   "metadata": {},
   "outputs": [],
   "source": [
    "# save JSON\n",
    "def save_data(file_path, data):\n",
    "    with open(file_path, 'w') as file:\n",
    "        json.dump(data, file, indent=4)\n"
   ]
  },
  {
   "cell_type": "code",
   "execution_count": 12,
   "metadata": {},
   "outputs": [],
   "source": [
    "# acces json (ID)\n",
    "def get_siswa_by_id(data, siswa_id):\n",
    "    for siswa in data['datasiswa']:\n",
    "        if siswa['ID'] == siswa_id:\n",
    "            return siswa\n",
    "    return None"
   ]
  },
  {
   "cell_type": "code",
   "execution_count": 13,
   "metadata": {},
   "outputs": [],
   "source": [
    "#CRUD data\n",
    "# add data siswa\n",
    "def add_siswa(data, datasiswa):\n",
    "    data['datasiswa'].append(datasiswa)\n",
    "\n",
    "# delete siswa\n",
    "def delete_siswa(data, siswa_id):\n",
    "    data['datasiswa'] = [datasiswa for datasiswa in data['datasiswa'] if datasiswa.get('ID') != siswa_id]\n",
    "\n",
    "# update data siswa\n",
    "def update_siswa(data, siswa_id, new_data):\n",
    "    for datasiswa in data['datasiswa']:\n",
    "        if datasiswa['ID'] == siswa_id:\n",
    "            datasiswa.update(new_data)"
   ]
  },
  {
   "cell_type": "code",
   "execution_count": 14,
   "metadata": {},
   "outputs": [],
   "source": [
    "file_path = 'datasiswa.json'\n",
    "data = read_data(file_path)\n",
    "\n",
    "# add siswa\n",
    "add_new_siswa = {\n",
    "    \"ID\": 7,\n",
    "    \"name\": \"Vlado\",\n",
    "    \"birth date\": \"17 May 2000\",\n",
    "    \"full name\": \"Vlado Omar\",\n",
    "    \"phone number\": \"0876745522\",\n",
    "    \"hobbies\": [\"jogging\", \"badminton\"],\n",
    "    \"gender\": \"male\"\n",
    "}\n",
    "add_siswa(data, add_new_siswa)\n",
    "\n"
   ]
  },
  {
   "cell_type": "code",
   "execution_count": 15,
   "metadata": {},
   "outputs": [],
   "source": [
    "#delete siswa\n",
    "delete_siswa(data, 2)\n"
   ]
  },
  {
   "cell_type": "code",
   "execution_count": 16,
   "metadata": {},
   "outputs": [],
   "source": [
    "# update siswa \n",
    "update_siswa(data, 4, {\"hobbies\": [\"dancing\", \"band\"]})\n",
    "save_data(file_path, data)"
   ]
  },
  {
   "cell_type": "code",
   "execution_count": 17,
   "metadata": {},
   "outputs": [],
   "source": [
    "# add ranking\n",
    "def add_ranking(data, siswa_id, ranking):\n",
    "    siswa = get_siswa_by_id(data, siswa_id)\n",
    "    if siswa:\n",
    "        siswa['ranking'] = ranking\n",
    "\n",
    "file_path = 'datasiswa.json'\n",
    "data = read_data(file_path)\n",
    "\n",
    "add_ranking(data, 1, '1')\n",
    "add_ranking(data, 2, '4')\n",
    "add_ranking(data, 3, '3')\n",
    "add_ranking(data, 4, '2')\n",
    "add_ranking(data, 5, '5')\n",
    "add_ranking(data, 6, '7')\n",
    "add_ranking(data, 7, '6')\n",
    "\n",
    "save_data(file_path, data)"
   ]
  }
 ],
 "metadata": {
  "kernelspec": {
   "display_name": "Python 3",
   "language": "python",
   "name": "python3"
  },
  "language_info": {
   "codemirror_mode": {
    "name": "ipython",
    "version": 3
   },
   "file_extension": ".py",
   "mimetype": "text/x-python",
   "name": "python",
   "nbconvert_exporter": "python",
   "pygments_lexer": "ipython3",
   "version": "3.10.5"
  }
 },
 "nbformat": 4,
 "nbformat_minor": 2
}
