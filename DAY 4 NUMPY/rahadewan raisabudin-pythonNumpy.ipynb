{
 "cells": [
  {
   "cell_type": "markdown",
   "metadata": {},
   "source": [
    "KODE DAN HASIL PANDAS"
   ]
  },
  {
   "cell_type": "code",
   "execution_count": 24,
   "metadata": {},
   "outputs": [],
   "source": [
    "import pandas as pd"
   ]
  },
  {
   "cell_type": "code",
   "execution_count": 25,
   "metadata": {},
   "outputs": [
    {
     "data": {
      "text/html": [
       "<div>\n",
       "<style scoped>\n",
       "    .dataframe tbody tr th:only-of-type {\n",
       "        vertical-align: middle;\n",
       "    }\n",
       "\n",
       "    .dataframe tbody tr th {\n",
       "        vertical-align: top;\n",
       "    }\n",
       "\n",
       "    .dataframe thead th {\n",
       "        text-align: right;\n",
       "    }\n",
       "</style>\n",
       "<table border=\"1\" class=\"dataframe\">\n",
       "  <thead>\n",
       "    <tr style=\"text-align: right;\">\n",
       "      <th></th>\n",
       "      <th>id</th>\n",
       "      <th>cost</th>\n",
       "      <th>category</th>\n",
       "      <th>name</th>\n",
       "      <th>brand</th>\n",
       "      <th>retail_price</th>\n",
       "      <th>department</th>\n",
       "      <th>sku</th>\n",
       "      <th>distribution_center_id</th>\n",
       "      <th>new_cost</th>\n",
       "      <th>discounted_cost</th>\n",
       "    </tr>\n",
       "  </thead>\n",
       "  <tbody>\n",
       "    <tr>\n",
       "      <th>0</th>\n",
       "      <td>27569</td>\n",
       "      <td>2000.0</td>\n",
       "      <td>Swim</td>\n",
       "      <td>2XU Men's Swimmers Compression Long Sleeve Top</td>\n",
       "      <td>Jeans</td>\n",
       "      <td>15.041.000.366.210.900</td>\n",
       "      <td>Men</td>\n",
       "      <td>B23C5765E165D83AA924FA8F13C05F25</td>\n",
       "      <td>1</td>\n",
       "      <td>1500.0</td>\n",
       "      <td>900.0</td>\n",
       "    </tr>\n",
       "    <tr>\n",
       "      <th>1</th>\n",
       "      <td>27445</td>\n",
       "      <td>5000.0</td>\n",
       "      <td>Swim</td>\n",
       "      <td>TYR Sport Men's Square Leg Short Swim Suit</td>\n",
       "      <td>TYR</td>\n",
       "      <td>389.900.016.784.668</td>\n",
       "      <td>Men</td>\n",
       "      <td>2AB7D3B23574C3DEA2BD278AFD0939AB</td>\n",
       "      <td>1</td>\n",
       "      <td>3.707.949.179.143.660</td>\n",
       "      <td>2.224.769.507.486.200</td>\n",
       "    </tr>\n",
       "    <tr>\n",
       "      <th>2</th>\n",
       "      <td>27457</td>\n",
       "      <td>10000.0</td>\n",
       "      <td>Swim</td>\n",
       "      <td>TYR Sport Men's Solid Durafast Jammer Swim Suit</td>\n",
       "      <td>TYR</td>\n",
       "      <td>27.600.000.381.469.700</td>\n",
       "      <td>Men</td>\n",
       "      <td>8F831227B0EB6C6D09A0555531365933</td>\n",
       "      <td>1</td>\n",
       "      <td>2.384.640.038.264.390</td>\n",
       "      <td>14.307.840.229.586.300</td>\n",
       "    </tr>\n",
       "    <tr>\n",
       "      <th>3</th>\n",
       "      <td>27466</td>\n",
       "      <td>17.850.000.048.056.200</td>\n",
       "      <td>Swim</td>\n",
       "      <td>TYR Sport Men's Swim Short/Resistance Short Sw...</td>\n",
       "      <td>TYR</td>\n",
       "      <td>30.0</td>\n",
       "      <td>Men</td>\n",
       "      <td>67317D6DCC4CB778AEB9219565F5456B</td>\n",
       "      <td>1</td>\n",
       "      <td>26.775.000.072.084.300</td>\n",
       "      <td>1.606.500.004.325.060</td>\n",
       "    </tr>\n",
       "    <tr>\n",
       "      <th>4</th>\n",
       "      <td>27481</td>\n",
       "      <td>29.408.000.515.669.500</td>\n",
       "      <td>Swim</td>\n",
       "      <td>TYR Alliance Team Splice Jammer</td>\n",
       "      <td>TYR</td>\n",
       "      <td>45.950.000.762.939.400</td>\n",
       "      <td>Men</td>\n",
       "      <td>213C888198806EF1A0E2BBF2F4855C6C</td>\n",
       "      <td>1</td>\n",
       "      <td>4.411.200.077.350.430</td>\n",
       "      <td>2.646.720.046.410.260</td>\n",
       "    </tr>\n",
       "  </tbody>\n",
       "</table>\n",
       "</div>"
      ],
      "text/plain": [
       "      id                    cost category  \\\n",
       "0  27569                  2000.0     Swim   \n",
       "1  27445                  5000.0     Swim   \n",
       "2  27457                 10000.0     Swim   \n",
       "3  27466  17.850.000.048.056.200     Swim   \n",
       "4  27481  29.408.000.515.669.500     Swim   \n",
       "\n",
       "                                                name  brand  \\\n",
       "0     2XU Men's Swimmers Compression Long Sleeve Top  Jeans   \n",
       "1         TYR Sport Men's Square Leg Short Swim Suit    TYR   \n",
       "2    TYR Sport Men's Solid Durafast Jammer Swim Suit    TYR   \n",
       "3  TYR Sport Men's Swim Short/Resistance Short Sw...    TYR   \n",
       "4                    TYR Alliance Team Splice Jammer    TYR   \n",
       "\n",
       "             retail_price department                               sku  \\\n",
       "0  15.041.000.366.210.900        Men  B23C5765E165D83AA924FA8F13C05F25   \n",
       "1     389.900.016.784.668        Men  2AB7D3B23574C3DEA2BD278AFD0939AB   \n",
       "2  27.600.000.381.469.700        Men  8F831227B0EB6C6D09A0555531365933   \n",
       "3                    30.0        Men  67317D6DCC4CB778AEB9219565F5456B   \n",
       "4  45.950.000.762.939.400        Men  213C888198806EF1A0E2BBF2F4855C6C   \n",
       "\n",
       "   distribution_center_id                new_cost         discounted_cost  \n",
       "0                       1                  1500.0                   900.0  \n",
       "1                       1   3.707.949.179.143.660   2.224.769.507.486.200  \n",
       "2                       1   2.384.640.038.264.390  14.307.840.229.586.300  \n",
       "3                       1  26.775.000.072.084.300   1.606.500.004.325.060  \n",
       "4                       1   4.411.200.077.350.430   2.646.720.046.410.260  "
      ]
     },
     "execution_count": 25,
     "metadata": {},
     "output_type": "execute_result"
    }
   ],
   "source": [
    "product_data = pd.read_csv('./updated_products - updated_products.csv.csv')\n",
    "product_data.head()"
   ]
  },
  {
   "cell_type": "code",
   "execution_count": 26,
   "metadata": {},
   "outputs": [
    {
     "data": {
      "text/plain": [
       "id                                                                 28790\n",
       "cost                                                                1000\n",
       "category                                                            Swim\n",
       "name                      2XU Men's Swimmers Compression Long Sleeve Top\n",
       "brand                                                                TYR\n",
       "retail_price                                      15.041.000.366.210.900\n",
       "department                                                           Men\n",
       "sku                                     B23C5765E165D83AA924FA8F13C05F25\n",
       "distribution_center_id                                                 1\n",
       "new_cost                                                          1500.0\n",
       "discounted_cost                                                    900.0\n",
       "depatment                                                          Women\n",
       "Name: 0, dtype: object"
      ]
     },
     "execution_count": 26,
     "metadata": {},
     "output_type": "execute_result"
    }
   ],
   "source": [
    "# modify array 0\n",
    "product_data.loc[0,['id']] = [\"28790\"]  # id awal 27569\n",
    "product_data.loc[0,['cost']] = [1000] # cost awal 2000\n",
    "product_data.loc[0,['brand']] = [\"TYR\"] # Awal Jeans\n",
    "product_data.loc[0,['depatment']] = [\"Women\"] # awal men\n",
    "product_data.loc[0]"
   ]
  },
  {
   "cell_type": "code",
   "execution_count": 27,
   "metadata": {},
   "outputs": [
    {
     "data": {
      "text/plain": [
       "id                                                             27445\n",
       "cost                                                           10000\n",
       "category                                                        Swim\n",
       "name                      TYR Sport Men's Square Leg Short Swim Suit\n",
       "brand                                                          Jeans\n",
       "retail_price                                     389.900.016.784.668\n",
       "department                                                       Men\n",
       "sku                                 2AB7D3B23574C3DEA2BD278AFD0939AB\n",
       "distribution_center_id                                             1\n",
       "new_cost                                       3.707.949.179.143.660\n",
       "discounted_cost                                2.224.769.507.486.200\n",
       "depatment                                                      Women\n",
       "Name: 1, dtype: object"
      ]
     },
     "execution_count": 27,
     "metadata": {},
     "output_type": "execute_result"
    }
   ],
   "source": [
    "# modify array 1\n",
    "product_data.loc[1,['cost']] = [10000] # cost awal 5000\n",
    "product_data.loc[1,['brand']] = [\"Jeans\"] # Awal TYR\n",
    "product_data.loc[1,['depatment']] = [\"Women\"] # awal men\n",
    "product_data.loc[1]"
   ]
  },
  {
   "cell_type": "code",
   "execution_count": 28,
   "metadata": {},
   "outputs": [
    {
     "data": {
      "text/plain": [
       "id                                                                  27457\n",
       "cost                                                                20000\n",
       "category                                                             Swim\n",
       "name                      TYR Sport Men's Solid Durafast Jammer Swim Suit\n",
       "brand                                                               Jeans\n",
       "retail_price                                       27.600.000.381.469.700\n",
       "department                                                            Men\n",
       "sku                                      8F831227B0EB6C6D09A0555531365933\n",
       "distribution_center_id                                                  1\n",
       "new_cost                                            2.384.640.038.264.390\n",
       "discounted_cost                                    14.307.840.229.586.300\n",
       "depatment                                                           Women\n",
       "Name: 2, dtype: object"
      ]
     },
     "execution_count": 28,
     "metadata": {},
     "output_type": "execute_result"
    }
   ],
   "source": [
    "# modify array 2\n",
    "product_data.loc[2,['cost']] = [20000] # cost awal 10000\n",
    "product_data.loc[2,['brand']] = [\"Jeans\"] # Awal TYR\n",
    "product_data.loc[2,['depatment']] = [\"Women\"] # awal men\n",
    "product_data.loc[2]"
   ]
  },
  {
   "cell_type": "code",
   "execution_count": 29,
   "metadata": {},
   "outputs": [
    {
     "data": {
      "text/plain": [
       "id                                                                    27466\n",
       "cost                                                                  10000\n",
       "category                                                               Swim\n",
       "name                      TYR Sport Men's Swim Short/Resistance Short Sw...\n",
       "brand                                                                 Jeans\n",
       "retail_price                                                           30.0\n",
       "department                                                              Men\n",
       "sku                                        67317D6DCC4CB778AEB9219565F5456B\n",
       "distribution_center_id                                                    1\n",
       "new_cost                                             26.775.000.072.084.300\n",
       "discounted_cost                                       1.606.500.004.325.060\n",
       "depatment                                                             Women\n",
       "Name: 3, dtype: object"
      ]
     },
     "execution_count": 29,
     "metadata": {},
     "output_type": "execute_result"
    }
   ],
   "source": [
    "# modify array 3\n",
    "product_data.loc[3,['cost']] = [10000] # cost awal 17.850.000.048.056.200\n",
    "product_data.loc[3,['brand']] = [\"Jeans\"] # Awal TYR\n",
    "product_data.loc[3,['depatment']] = [\"Women\"] # awal men\n",
    "product_data.loc[3]"
   ]
  },
  {
   "cell_type": "code",
   "execution_count": 30,
   "metadata": {},
   "outputs": [
    {
     "data": {
      "text/plain": [
       "id                                                   27481\n",
       "cost                                                 10000\n",
       "category                                              Swim\n",
       "name                       TYR Alliance Team Splice Jammer\n",
       "brand                                                Jeans\n",
       "retail_price                        45.950.000.762.939.400\n",
       "department                                             Men\n",
       "sku                       213C888198806EF1A0E2BBF2F4855C6C\n",
       "distribution_center_id                                   1\n",
       "new_cost                             4.411.200.077.350.430\n",
       "discounted_cost                      2.646.720.046.410.260\n",
       "depatment                                            Women\n",
       "Name: 4, dtype: object"
      ]
     },
     "execution_count": 30,
     "metadata": {},
     "output_type": "execute_result"
    }
   ],
   "source": [
    "# modify array 4\n",
    "product_data.loc[4,['cost']] = [10000] # cost awal 29.408.000.515.669.500\n",
    "product_data.loc[4,['brand']] = [\"Jeans\"] # Awal TYR\n",
    "product_data.loc[4,['depatment']] = [\"Women\"] # awal men\n",
    "product_data.loc[4]"
   ]
  },
  {
   "cell_type": "code",
   "execution_count": 31,
   "metadata": {},
   "outputs": [],
   "source": [
    "# To Excel (Need to install additional module, \"openpyxl\")\n",
    "product_data.to_excel(excel_writer=\"./updated_products_pandas.xlsx\", index=False)"
   ]
  },
  {
   "cell_type": "code",
   "execution_count": 32,
   "metadata": {},
   "outputs": [],
   "source": [
    "# To CSV\n",
    "product_data.to_csv(path_or_buf=\"./updated_products_pandas.csv\", index=False)"
   ]
  },
  {
   "cell_type": "markdown",
   "metadata": {},
   "source": [
    "KODE DAN HASIL NUMPY"
   ]
  },
  {
   "cell_type": "code",
   "execution_count": 33,
   "metadata": {},
   "outputs": [],
   "source": [
    "import numpy as np"
   ]
  },
  {
   "cell_type": "code",
   "execution_count": 34,
   "metadata": {},
   "outputs": [
    {
     "data": {
      "text/html": [
       "<div>\n",
       "<style scoped>\n",
       "    .dataframe tbody tr th:only-of-type {\n",
       "        vertical-align: middle;\n",
       "    }\n",
       "\n",
       "    .dataframe tbody tr th {\n",
       "        vertical-align: top;\n",
       "    }\n",
       "\n",
       "    .dataframe thead th {\n",
       "        text-align: right;\n",
       "    }\n",
       "</style>\n",
       "<table border=\"1\" class=\"dataframe\">\n",
       "  <thead>\n",
       "    <tr style=\"text-align: right;\">\n",
       "      <th></th>\n",
       "      <th>id</th>\n",
       "      <th>cost</th>\n",
       "      <th>category</th>\n",
       "      <th>name</th>\n",
       "      <th>brand</th>\n",
       "      <th>retail_price</th>\n",
       "      <th>department</th>\n",
       "      <th>sku</th>\n",
       "      <th>distribution_center_id</th>\n",
       "      <th>new_cost</th>\n",
       "      <th>discounted_cost</th>\n",
       "      <th>depatment</th>\n",
       "    </tr>\n",
       "  </thead>\n",
       "  <tbody>\n",
       "    <tr>\n",
       "      <th>0</th>\n",
       "      <td>28790</td>\n",
       "      <td>1000</td>\n",
       "      <td>Swim</td>\n",
       "      <td>2XU Men's Swimmers Compression Long Sleeve Top</td>\n",
       "      <td>TYR</td>\n",
       "      <td>15.041.000.366.210.900</td>\n",
       "      <td>Men</td>\n",
       "      <td>B23C5765E165D83AA924FA8F13C05F25</td>\n",
       "      <td>1</td>\n",
       "      <td>1500.0</td>\n",
       "      <td>900.0</td>\n",
       "      <td>Women</td>\n",
       "    </tr>\n",
       "    <tr>\n",
       "      <th>1</th>\n",
       "      <td>27445</td>\n",
       "      <td>10000</td>\n",
       "      <td>Swim</td>\n",
       "      <td>TYR Sport Men's Square Leg Short Swim Suit</td>\n",
       "      <td>Jeans</td>\n",
       "      <td>389.900.016.784.668</td>\n",
       "      <td>Men</td>\n",
       "      <td>2AB7D3B23574C3DEA2BD278AFD0939AB</td>\n",
       "      <td>1</td>\n",
       "      <td>3.707.949.179.143.660</td>\n",
       "      <td>2.224.769.507.486.200</td>\n",
       "      <td>Women</td>\n",
       "    </tr>\n",
       "    <tr>\n",
       "      <th>2</th>\n",
       "      <td>27457</td>\n",
       "      <td>20000</td>\n",
       "      <td>Swim</td>\n",
       "      <td>TYR Sport Men's Solid Durafast Jammer Swim Suit</td>\n",
       "      <td>Jeans</td>\n",
       "      <td>27.600.000.381.469.700</td>\n",
       "      <td>Men</td>\n",
       "      <td>8F831227B0EB6C6D09A0555531365933</td>\n",
       "      <td>1</td>\n",
       "      <td>2.384.640.038.264.390</td>\n",
       "      <td>14.307.840.229.586.300</td>\n",
       "      <td>Women</td>\n",
       "    </tr>\n",
       "    <tr>\n",
       "      <th>3</th>\n",
       "      <td>27466</td>\n",
       "      <td>10000</td>\n",
       "      <td>Swim</td>\n",
       "      <td>TYR Sport Men's Swim Short/Resistance Short Sw...</td>\n",
       "      <td>Jeans</td>\n",
       "      <td>30.0</td>\n",
       "      <td>Men</td>\n",
       "      <td>67317D6DCC4CB778AEB9219565F5456B</td>\n",
       "      <td>1</td>\n",
       "      <td>26.775.000.072.084.300</td>\n",
       "      <td>1.606.500.004.325.060</td>\n",
       "      <td>Women</td>\n",
       "    </tr>\n",
       "    <tr>\n",
       "      <th>4</th>\n",
       "      <td>27481</td>\n",
       "      <td>10000</td>\n",
       "      <td>Swim</td>\n",
       "      <td>TYR Alliance Team Splice Jammer</td>\n",
       "      <td>Jeans</td>\n",
       "      <td>45.950.000.762.939.400</td>\n",
       "      <td>Men</td>\n",
       "      <td>213C888198806EF1A0E2BBF2F4855C6C</td>\n",
       "      <td>1</td>\n",
       "      <td>4.411.200.077.350.430</td>\n",
       "      <td>2.646.720.046.410.260</td>\n",
       "      <td>Women</td>\n",
       "    </tr>\n",
       "  </tbody>\n",
       "</table>\n",
       "</div>"
      ],
      "text/plain": [
       "      id   cost category                                               name  \\\n",
       "0  28790   1000     Swim     2XU Men's Swimmers Compression Long Sleeve Top   \n",
       "1  27445  10000     Swim         TYR Sport Men's Square Leg Short Swim Suit   \n",
       "2  27457  20000     Swim    TYR Sport Men's Solid Durafast Jammer Swim Suit   \n",
       "3  27466  10000     Swim  TYR Sport Men's Swim Short/Resistance Short Sw...   \n",
       "4  27481  10000     Swim                    TYR Alliance Team Splice Jammer   \n",
       "\n",
       "   brand            retail_price department                               sku  \\\n",
       "0    TYR  15.041.000.366.210.900        Men  B23C5765E165D83AA924FA8F13C05F25   \n",
       "1  Jeans     389.900.016.784.668        Men  2AB7D3B23574C3DEA2BD278AFD0939AB   \n",
       "2  Jeans  27.600.000.381.469.700        Men  8F831227B0EB6C6D09A0555531365933   \n",
       "3  Jeans                    30.0        Men  67317D6DCC4CB778AEB9219565F5456B   \n",
       "4  Jeans  45.950.000.762.939.400        Men  213C888198806EF1A0E2BBF2F4855C6C   \n",
       "\n",
       "   distribution_center_id                new_cost         discounted_cost  \\\n",
       "0                       1                  1500.0                   900.0   \n",
       "1                       1   3.707.949.179.143.660   2.224.769.507.486.200   \n",
       "2                       1   2.384.640.038.264.390  14.307.840.229.586.300   \n",
       "3                       1  26.775.000.072.084.300   1.606.500.004.325.060   \n",
       "4                       1   4.411.200.077.350.430   2.646.720.046.410.260   \n",
       "\n",
       "  depatment  \n",
       "0     Women  \n",
       "1     Women  \n",
       "2     Women  \n",
       "3     Women  \n",
       "4     Women  "
      ]
     },
     "execution_count": 34,
     "metadata": {},
     "output_type": "execute_result"
    }
   ],
   "source": [
    "product_data = pd.read_csv(\"./updated_products_pandas.csv\")\n",
    "product_data.head()"
   ]
  },
  {
   "cell_type": "code",
   "execution_count": 35,
   "metadata": {},
   "outputs": [],
   "source": [
    "import random\n",
    "import timeit\n",
    "from typing import List, Optional"
   ]
  },
  {
   "cell_type": "code",
   "execution_count": 36,
   "metadata": {},
   "outputs": [
    {
     "name": "stdout",
     "output_type": "stream",
     "text": [
      "[15, 86, 87, 97, 85, 91, 68, 57, 73, 26]\n"
     ]
    }
   ],
   "source": [
    "number_of_data = 10\n",
    "min_interval = 10\n",
    "max_interval = 100\n",
    "random_number = random.sample(range(min_interval, max_interval), number_of_data)\n",
    "print(random_number)"
   ]
  },
  {
   "cell_type": "code",
   "execution_count": 37,
   "metadata": {},
   "outputs": [],
   "source": [
    "def create_random_number(min_interval:int, max_interval:int, data_number:int) -> list:\n",
    "    return random.sample(range(min_interval, max_interval), data_number)"
   ]
  },
  {
   "cell_type": "code",
   "execution_count": 38,
   "metadata": {},
   "outputs": [],
   "source": [
    "number_of_data = 10000000 # Sepuluh juta\n",
    "min_interval = 1\n",
    "max_interval = 100000000 # Seratus juta\n",
    "random_list = create_random_number(min_interval, max_interval, number_of_data)\n",
    "data = {\n",
    "    \"cost_1\": random_list,\n",
    "    \"cost_2\": np.array(random_list)\n",
    "}"
   ]
  },
  {
   "cell_type": "code",
   "execution_count": 39,
   "metadata": {},
   "outputs": [],
   "source": [
    "def multiplication(data: List[int] | np.array, multiplier: int = 2) -> List[int] | np.array:\n",
    "    return data * multiplier"
   ]
  },
  {
   "cell_type": "code",
   "execution_count": 40,
   "metadata": {},
   "outputs": [
    {
     "name": "stdout",
     "output_type": "stream",
     "text": [
      "Execution time (List): 58.980869 seconds\n",
      "Execution time (Numpy Array): 2.436661 seconds\n"
     ]
    }
   ],
   "source": [
    "iteration = 100\n",
    "list_execution_time = timeit.timeit(lambda: multiplication(data['cost_1']), number=iteration)\n",
    "print(f\"Execution time (List): {list_execution_time:.6f} seconds\")\n",
    "np_execution_time = timeit.timeit(lambda:multiplication(data['cost_2']), number=iteration)\n",
    "print(f\"Execution time (Numpy Array): {np_execution_time:.6f} seconds\")"
   ]
  }
 ],
 "metadata": {
  "kernelspec": {
   "display_name": "Python 3",
   "language": "python",
   "name": "python3"
  },
  "language_info": {
   "codemirror_mode": {
    "name": "ipython",
    "version": 3
   },
   "file_extension": ".py",
   "mimetype": "text/x-python",
   "name": "python",
   "nbconvert_exporter": "python",
   "pygments_lexer": "ipython3",
   "version": "3.10.5"
  }
 },
 "nbformat": 4,
 "nbformat_minor": 2
}
