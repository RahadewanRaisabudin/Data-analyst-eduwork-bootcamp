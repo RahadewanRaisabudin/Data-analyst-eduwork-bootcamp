{
 "cells": [
  {
   "cell_type": "code",
   "execution_count": 14,
   "metadata": {},
   "outputs": [
    {
     "name": "stdout",
     "output_type": "stream",
     "text": [
      "Defaulting to user installation because normal site-packages is not writeable\n",
      "Requirement already satisfied: pandas in c:\\users\\hp\\appdata\\roaming\\python\\python38\\site-packages (2.0.3)\n",
      "Requirement already satisfied: python-dateutil>=2.8.2 in c:\\users\\hp\\appdata\\roaming\\python\\python38\\site-packages (from pandas) (2.8.2)\n",
      "Requirement already satisfied: pytz>=2020.1 in c:\\users\\hp\\appdata\\roaming\\python\\python38\\site-packages (from pandas) (2023.3)\n",
      "Requirement already satisfied: tzdata>=2022.1 in c:\\users\\hp\\appdata\\roaming\\python\\python38\\site-packages (from pandas) (2023.3)\n",
      "Requirement already satisfied: numpy>=1.20.3 in c:\\users\\hp\\appdata\\roaming\\python\\python38\\site-packages (from pandas) (1.24.4)\n",
      "Requirement already satisfied: six>=1.5 in c:\\users\\hp\\appdata\\roaming\\python\\python38\\site-packages (from python-dateutil>=2.8.2->pandas) (1.16.0)\n"
     ]
    },
    {
     "name": "stderr",
     "output_type": "stream",
     "text": [
      "\n",
      "[notice] A new release of pip is available: 23.2.1 -> 23.3.1\n",
      "[notice] To update, run: c:\\program files\\python38\\python.exe -m pip install --upgrade pip\n"
     ]
    }
   ],
   "source": [
    "!pip3 install pandas"
   ]
  },
  {
   "cell_type": "code",
   "execution_count": 15,
   "metadata": {},
   "outputs": [
    {
     "name": "stdout",
     "output_type": "stream",
     "text": [
      "Defaulting to user installation because normal site-packages is not writeable\n",
      "Requirement already satisfied: openpyxl in c:\\users\\hp\\appdata\\roaming\\python\\python38\\site-packages (3.1.2)\n",
      "Requirement already satisfied: et-xmlfile in c:\\users\\hp\\appdata\\roaming\\python\\python38\\site-packages (from openpyxl) (1.1.0)\n"
     ]
    },
    {
     "name": "stderr",
     "output_type": "stream",
     "text": [
      "\n",
      "[notice] A new release of pip is available: 23.2.1 -> 23.3.1\n",
      "[notice] To update, run: c:\\program files\\python38\\python.exe -m pip install --upgrade pip\n"
     ]
    }
   ],
   "source": [
    "# For excel export via Pandas DataFrame\n",
    "!pip3 install openpyxl"
   ]
  },
  {
   "cell_type": "code",
   "execution_count": 16,
   "metadata": {},
   "outputs": [
    {
     "name": "stdout",
     "output_type": "stream",
     "text": [
      "Name: pandas\n",
      "Version: 2.0.3\n",
      "Summary: Powerful data structures for data analysis, time series, and statistics\n",
      "Home-page: \n",
      "Author: \n",
      "Author-email: The Pandas Development Team <pandas-dev@python.org>\n",
      "License: BSD 3-Clause License\n",
      "        \n",
      "        Copyright (c) 2008-2011, AQR Capital Management, LLC, Lambda Foundry, Inc. and PyData Development Team\n",
      "        All rights reserved.\n",
      "        \n",
      "        Copyright (c) 2011-2023, Open source contributors.\n",
      "        \n",
      "        Redistribution and use in source and binary forms, with or without\n",
      "        modification, are permitted provided that the following conditions are met:\n",
      "        \n",
      "        * Redistributions of source code must retain the above copyright notice, this\n",
      "          list of conditions and the following disclaimer.\n",
      "        \n",
      "        * Redistributions in binary form must reproduce the above copyright notice,\n",
      "          this list of conditions and the following disclaimer in the documentation\n",
      "          and/or other materials provided with the distribution.\n",
      "        \n",
      "        * Neither the name of the copyright holder nor the names of its\n",
      "          contributors may be used to endorse or promote products derived from\n",
      "          this software without specific prior written permission.\n",
      "        \n",
      "        THIS SOFTWARE IS PROVIDED BY THE COPYRIGHT HOLDERS AND CONTRIBUTORS \"AS IS\"\n",
      "        AND ANY EXPRESS OR IMPLIED WARRANTIES, INCLUDING, BUT NOT LIMITED TO, THE\n",
      "        IMPLIED WARRANTIES OF MERCHANTABILITY AND FITNESS FOR A PARTICULAR PURPOSE ARE\n",
      "        DISCLAIMED. IN NO EVENT SHALL THE COPYRIGHT HOLDER OR CONTRIBUTORS BE LIABLE\n",
      "        FOR ANY DIRECT, INDIRECT, INCIDENTAL, SPECIAL, EXEMPLARY, OR CONSEQUENTIAL\n",
      "        DAMAGES (INCLUDING, BUT NOT LIMITED TO, PROCUREMENT OF SUBSTITUTE GOODS OR\n",
      "        SERVICES; LOSS OF USE, DATA, OR PROFITS; OR BUSINESS INTERRUPTION) HOWEVER\n",
      "        CAUSED AND ON ANY THEORY OF LIABILITY, WHETHER IN CONTRACT, STRICT LIABILITY,\n",
      "        OR TORT (INCLUDING NEGLIGENCE OR OTHERWISE) ARISING IN ANY WAY OUT OF THE USE\n",
      "        OF THIS SOFTWARE, EVEN IF ADVISED OF THE POSSIBILITY OF SUCH DAMAGE.\n",
      "        \n",
      "Location: c:\\users\\hp\\appdata\\roaming\\python\\python38\\site-packages\n",
      "Requires: numpy, python-dateutil, pytz, tzdata\n",
      "Required-by: seaborn, ultralytics\n"
     ]
    }
   ],
   "source": [
    "!pip show pandas"
   ]
  },
  {
   "cell_type": "code",
   "execution_count": 17,
   "metadata": {},
   "outputs": [],
   "source": [
    "import pandas as pd"
   ]
  },
  {
   "cell_type": "code",
   "execution_count": 18,
   "metadata": {},
   "outputs": [
    {
     "data": {
      "text/html": [
       "<div>\n",
       "<style scoped>\n",
       "    .dataframe tbody tr th:only-of-type {\n",
       "        vertical-align: middle;\n",
       "    }\n",
       "\n",
       "    .dataframe tbody tr th {\n",
       "        vertical-align: top;\n",
       "    }\n",
       "\n",
       "    .dataframe thead th {\n",
       "        text-align: right;\n",
       "    }\n",
       "</style>\n",
       "<table border=\"1\" class=\"dataframe\">\n",
       "  <thead>\n",
       "    <tr style=\"text-align: right;\">\n",
       "      <th></th>\n",
       "      <th>id</th>\n",
       "      <th>cost</th>\n",
       "      <th>category</th>\n",
       "      <th>name</th>\n",
       "      <th>brand</th>\n",
       "      <th>retail_price</th>\n",
       "      <th>department</th>\n",
       "      <th>sku</th>\n",
       "      <th>distribution_center_id</th>\n",
       "    </tr>\n",
       "  </thead>\n",
       "  <tbody>\n",
       "    <tr>\n",
       "      <th>0</th>\n",
       "      <td>27569</td>\n",
       "      <td>92.652563</td>\n",
       "      <td>Swim</td>\n",
       "      <td>2XU Men's Swimmers Compression Long Sleeve Top</td>\n",
       "      <td>2XU</td>\n",
       "      <td>150.410004</td>\n",
       "      <td>Men</td>\n",
       "      <td>B23C5765E165D83AA924FA8F13C05F25</td>\n",
       "      <td>1</td>\n",
       "    </tr>\n",
       "    <tr>\n",
       "      <th>1</th>\n",
       "      <td>27445</td>\n",
       "      <td>24.719661</td>\n",
       "      <td>Swim</td>\n",
       "      <td>TYR Sport Men's Square Leg Short Swim Suit</td>\n",
       "      <td>TYR</td>\n",
       "      <td>38.990002</td>\n",
       "      <td>Men</td>\n",
       "      <td>2AB7D3B23574C3DEA2BD278AFD0939AB</td>\n",
       "      <td>1</td>\n",
       "    </tr>\n",
       "    <tr>\n",
       "      <th>2</th>\n",
       "      <td>27457</td>\n",
       "      <td>15.897600</td>\n",
       "      <td>Swim</td>\n",
       "      <td>TYR Sport Men's Solid Durafast Jammer Swim Suit</td>\n",
       "      <td>TYR</td>\n",
       "      <td>27.600000</td>\n",
       "      <td>Men</td>\n",
       "      <td>8F831227B0EB6C6D09A0555531365933</td>\n",
       "      <td>1</td>\n",
       "    </tr>\n",
       "    <tr>\n",
       "      <th>3</th>\n",
       "      <td>27466</td>\n",
       "      <td>17.850000</td>\n",
       "      <td>Swim</td>\n",
       "      <td>TYR Sport Men's Swim Short/Resistance Short Sw...</td>\n",
       "      <td>TYR</td>\n",
       "      <td>30.000000</td>\n",
       "      <td>Men</td>\n",
       "      <td>67317D6DCC4CB778AEB9219565F5456B</td>\n",
       "      <td>1</td>\n",
       "    </tr>\n",
       "    <tr>\n",
       "      <th>4</th>\n",
       "      <td>27481</td>\n",
       "      <td>29.408001</td>\n",
       "      <td>Swim</td>\n",
       "      <td>TYR Alliance Team Splice Jammer</td>\n",
       "      <td>TYR</td>\n",
       "      <td>45.950001</td>\n",
       "      <td>Men</td>\n",
       "      <td>213C888198806EF1A0E2BBF2F4855C6C</td>\n",
       "      <td>1</td>\n",
       "    </tr>\n",
       "  </tbody>\n",
       "</table>\n",
       "</div>"
      ],
      "text/plain": [
       "      id       cost category  \\\n",
       "0  27569  92.652563     Swim   \n",
       "1  27445  24.719661     Swim   \n",
       "2  27457  15.897600     Swim   \n",
       "3  27466  17.850000     Swim   \n",
       "4  27481  29.408001     Swim   \n",
       "\n",
       "                                                name brand  retail_price  \\\n",
       "0     2XU Men's Swimmers Compression Long Sleeve Top   2XU    150.410004   \n",
       "1         TYR Sport Men's Square Leg Short Swim Suit   TYR     38.990002   \n",
       "2    TYR Sport Men's Solid Durafast Jammer Swim Suit   TYR     27.600000   \n",
       "3  TYR Sport Men's Swim Short/Resistance Short Sw...   TYR     30.000000   \n",
       "4                    TYR Alliance Team Splice Jammer   TYR     45.950001   \n",
       "\n",
       "  department                               sku  distribution_center_id  \n",
       "0        Men  B23C5765E165D83AA924FA8F13C05F25                       1  \n",
       "1        Men  2AB7D3B23574C3DEA2BD278AFD0939AB                       1  \n",
       "2        Men  8F831227B0EB6C6D09A0555531365933                       1  \n",
       "3        Men  67317D6DCC4CB778AEB9219565F5456B                       1  \n",
       "4        Men  213C888198806EF1A0E2BBF2F4855C6C                       1  "
      ]
     },
     "execution_count": 18,
     "metadata": {},
     "output_type": "execute_result"
    }
   ],
   "source": [
    "product_data = pd.read_csv('./products.csv')\n",
    "product_data.head()"
   ]
  },
  {
   "cell_type": "code",
   "execution_count": 19,
   "metadata": {},
   "outputs": [
    {
     "data": {
      "text/plain": [
       "id                                  1\n",
       "cost                            100.0\n",
       "category                      Running\n",
       "name                      Running one\n",
       "brand                      bear brand\n",
       "retail_price                    200.0\n",
       "department                        Men\n",
       "sku                           AAAAAAA\n",
       "distribution_center_id             10\n",
       "depatment                       Women\n",
       "Name: 0, dtype: object"
      ]
     },
     "execution_count": 19,
     "metadata": {},
     "output_type": "execute_result"
    }
   ],
   "source": [
    "# modify array 0\n",
    "product_data.loc[0,['id']] = [\"1\"]\n",
    "product_data.loc[0,['cost']] = [100]\n",
    "product_data.loc[0,['category']] = [\"Running\"]\n",
    "product_data.loc[0,['name']] = [\"Running one\"]\n",
    "product_data.loc[0,['brand']] = [\"bear brand\"]\n",
    "product_data.loc[0,['retail_price']] = [200]\n",
    "product_data.loc[0,['depatment']] = [\"Women\"]\n",
    "product_data.loc[0,['sku']] = [\"AAAAAAA\"]\n",
    "product_data.loc[0,['distribution_center_id']] = [\"10\"]\n",
    "product_data.loc[0]"
   ]
  },
  {
   "cell_type": "code",
   "execution_count": 20,
   "metadata": {},
   "outputs": [
    {
     "data": {
      "text/plain": [
       "id                                  2\n",
       "cost                            150.0\n",
       "category                      Running\n",
       "name                      Running two\n",
       "brand                      lion brand\n",
       "retail_price                    220.0\n",
       "department                        Men\n",
       "sku                           BBBBBBB\n",
       "distribution_center_id             11\n",
       "depatment                       Women\n",
       "Name: 1, dtype: object"
      ]
     },
     "execution_count": 20,
     "metadata": {},
     "output_type": "execute_result"
    }
   ],
   "source": [
    "# modify array 1\n",
    "product_data.loc[1,['id']] = [\"2\"]\n",
    "product_data.loc[1,['cost']] = [150]\n",
    "product_data.loc[1,['category']] = [\"Running\"]\n",
    "product_data.loc[1,['name']] = [\"Running two\"]\n",
    "product_data.loc[1,['brand']] = [\"lion brand\"]\n",
    "product_data.loc[1,['retail_price']] = [220]\n",
    "product_data.loc[1,['depatment']] = [\"Women\"]\n",
    "product_data.loc[1,['sku']] = [\"BBBBBBB\"]\n",
    "product_data.loc[1,['distribution_center_id']] = [\"11\"]\n",
    "product_data.loc[1]"
   ]
  },
  {
   "cell_type": "code",
   "execution_count": 21,
   "metadata": {},
   "outputs": [
    {
     "data": {
      "text/plain": [
       "id                                    2\n",
       "cost                              120.0\n",
       "category                        Running\n",
       "name                      Running three\n",
       "brand                         ant brand\n",
       "retail_price                      250.0\n",
       "department                          Men\n",
       "sku                             CCCCCCC\n",
       "distribution_center_id               12\n",
       "depatment                         Women\n",
       "Name: 2, dtype: object"
      ]
     },
     "execution_count": 21,
     "metadata": {},
     "output_type": "execute_result"
    }
   ],
   "source": [
    "# modify array 2\n",
    "product_data.loc[2,['id']] = [\"2\"]\n",
    "product_data.loc[2,['cost']] = [120]\n",
    "product_data.loc[2,['category']] = [\"Running\"]\n",
    "product_data.loc[2,['name']] = [\"Running three\"]\n",
    "product_data.loc[2,['brand']] = [\"ant brand\"]\n",
    "product_data.loc[2,['retail_price']] = [250]\n",
    "product_data.loc[2,['depatment']] = [\"Women\"]\n",
    "product_data.loc[2,['sku']] = [\"CCCCCCC\"]\n",
    "product_data.loc[2,['distribution_center_id']] = [\"12\"]\n",
    "product_data.loc[2]"
   ]
  },
  {
   "cell_type": "code",
   "execution_count": 22,
   "metadata": {},
   "outputs": [
    {
     "data": {
      "text/plain": [
       "id                                   1\n",
       "cost                             190.0\n",
       "category                       Running\n",
       "name                      Running doll\n",
       "brand                       Doll brand\n",
       "retail_price                     280.0\n",
       "department                         Men\n",
       "sku                            DDDDDDD\n",
       "distribution_center_id              18\n",
       "depatment                        Women\n",
       "Name: 3, dtype: object"
      ]
     },
     "execution_count": 22,
     "metadata": {},
     "output_type": "execute_result"
    }
   ],
   "source": [
    "# modify array 3\n",
    "product_data.loc[3,['id']] = [\"1\"]\n",
    "product_data.loc[3,['cost']] = [190]\n",
    "product_data.loc[3,['category']] = [\"Running\"]\n",
    "product_data.loc[3,['name']] = [\"Running doll\"]\n",
    "product_data.loc[3,['brand']] = [\"Doll brand\"]\n",
    "product_data.loc[3,['retail_price']] = [280]\n",
    "product_data.loc[3,['depatment']] = [\"Women\"]\n",
    "product_data.loc[3,['sku']] = [\"DDDDDDD\"]\n",
    "product_data.loc[3,['distribution_center_id']] = [\"18\"]\n",
    "product_data.loc[3]"
   ]
  },
  {
   "cell_type": "code",
   "execution_count": 23,
   "metadata": {},
   "outputs": [
    {
     "data": {
      "text/plain": [
       "id                                      4\n",
       "cost                                150.0\n",
       "category                          Running\n",
       "name                      Running Thunder\n",
       "brand                           Cat brand\n",
       "retail_price                        900.0\n",
       "department                            Men\n",
       "sku                               DDDDDDD\n",
       "distribution_center_id                 30\n",
       "depatment                           Women\n",
       "Name: 4, dtype: object"
      ]
     },
     "execution_count": 23,
     "metadata": {},
     "output_type": "execute_result"
    }
   ],
   "source": [
    "# modify array 4\n",
    "product_data.loc[4,['id']] = [\"4\"]\n",
    "product_data.loc[4,['cost']] = [150]\n",
    "product_data.loc[4,['category']] = [\"Running\"]\n",
    "product_data.loc[4,['name']] = [\"Running Thunder\"]\n",
    "product_data.loc[4,['brand']] = [\"Cat brand\"]\n",
    "product_data.loc[4,['retail_price']] = [900]\n",
    "product_data.loc[4,['depatment']] = [\"Women\"]\n",
    "product_data.loc[4,['sku']] = [\"DDDDDDD\"]\n",
    "product_data.loc[4,['distribution_center_id']] = [\"30\"]\n",
    "product_data.loc[4]"
   ]
  },
  {
   "cell_type": "code",
   "execution_count": 25,
   "metadata": {},
   "outputs": [
    {
     "name": "stdout",
     "output_type": "stream",
     "text": [
      "Collecting openpyxlNote: you may need to restart the kernel to use updated packages.\n"
     ]
    },
    {
     "name": "stderr",
     "output_type": "stream",
     "text": [
      "\n",
      "[notice] A new release of pip is available: 23.1.2 -> 23.3.1\n",
      "[notice] To update, run: python.exe -m pip install --upgrade pip\n"
     ]
    },
    {
     "name": "stdout",
     "output_type": "stream",
     "text": [
      "\n",
      "  Using cached openpyxl-3.1.2-py2.py3-none-any.whl (249 kB)\n",
      "Collecting et-xmlfile (from openpyxl)\n",
      "  Using cached et_xmlfile-1.1.0-py3-none-any.whl (4.7 kB)\n",
      "Installing collected packages: et-xmlfile, openpyxl\n",
      "Successfully installed et-xmlfile-1.1.0 openpyxl-3.1.2\n"
     ]
    }
   ],
   "source": [
    "!pip3 install openpyxl\n"
   ]
  },
  {
   "cell_type": "code",
   "execution_count": 26,
   "metadata": {},
   "outputs": [],
   "source": [
    "# To Excel (Need to install additional module, \"openpyxl\")\n",
    "product_data.to_excel(excel_writer=\"./updated_products.xlsx\", index=False)"
   ]
  },
  {
   "cell_type": "code",
   "execution_count": 27,
   "metadata": {},
   "outputs": [],
   "source": [
    "# To CSV\n",
    "product_data.to_csv(path_or_buf=\"./updated_products.csv\", index=False)"
   ]
  }
 ],
 "metadata": {
  "kernelspec": {
   "display_name": "Python 3",
   "language": "python",
   "name": "python3"
  },
  "language_info": {
   "codemirror_mode": {
    "name": "ipython",
    "version": 3
   },
   "file_extension": ".py",
   "mimetype": "text/x-python",
   "name": "python",
   "nbconvert_exporter": "python",
   "pygments_lexer": "ipython3",
   "version": "3.10.5"
  }
 },
 "nbformat": 4,
 "nbformat_minor": 2
}
